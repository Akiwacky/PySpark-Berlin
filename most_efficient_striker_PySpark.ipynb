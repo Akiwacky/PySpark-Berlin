{
 "cells": [
  {
   "cell_type": "markdown",
   "metadata": {
    "application/vnd.databricks.v1+cell": {
     "cellMetadata": {
      "byteLimit": 2048000,
      "rowLimit": 10000
     },
     "inputWidgets": {},
     "nuid": "00e4b2f0-a175-4564-bd43-2eeac377d8c4",
     "showTitle": false,
     "title": ""
    }
   },
   "source": [
    "# Initialize our Spark Session & Import Pyspark Functions"
   ]
  },
  {
   "cell_type": "code",
   "execution_count": 0,
   "metadata": {
    "application/vnd.databricks.v1+cell": {
     "cellMetadata": {
      "byteLimit": 2048000,
      "rowLimit": 10000
     },
     "inputWidgets": {},
     "nuid": "7fd7ae34-acaf-4ea4-b076-b9c651df4fa0",
     "showTitle": false,
     "title": ""
    }
   },
   "outputs": [],
   "source": [
    "import pyspark.sql.functions as F\n",
    "from pyspark.sql import SparkSession\n",
    "\n",
    "spark = SparkSession.builder.appName(\"goal conversion metric\").getOrCreate()\n",
    "\n",
    "spark.sparkContext.setLogLevel(\"WARN\")"
   ]
  },
  {
   "cell_type": "markdown",
   "metadata": {
    "application/vnd.databricks.v1+cell": {
     "cellMetadata": {
      "byteLimit": 2048000,
      "rowLimit": 10000
     },
     "inputWidgets": {},
     "nuid": "deb22e45-4a7e-46a6-8788-dd381ca44031",
     "showTitle": false,
     "title": ""
    }
   },
   "source": [
    "# Which striker is the most efficient or clincial in front of goal"
   ]
  },
  {
   "cell_type": "markdown",
   "metadata": {
    "application/vnd.databricks.v1+cell": {
     "cellMetadata": {
      "byteLimit": 2048000,
      "rowLimit": 10000
     },
     "inputWidgets": {},
     "nuid": "887f206f-53d5-4532-ad23-ba065eab0561",
     "showTitle": false,
     "title": ""
    }
   },
   "source": [
    "## Read Data Sources\n"
   ]
  },
  {
   "cell_type": "code",
   "execution_count": 0,
   "metadata": {
    "application/vnd.databricks.v1+cell": {
     "cellMetadata": {
      "byteLimit": 2048000,
      "rowLimit": 10000
     },
     "inputWidgets": {},
     "nuid": "38f03ffc-c5ed-45d1-8d09-e9f9bd5aa137",
     "showTitle": false,
     "title": ""
    }
   },
   "outputs": [
    {
     "output_type": "stream",
     "name": "stdout",
     "output_type": "stream",
     "text": [
      "root\n |-- gameID: integer (nullable = true)\n |-- playerID: integer (nullable = true)\n |-- goals: integer (nullable = true)\n |-- ownGoals: integer (nullable = true)\n |-- shots: integer (nullable = true)\n |-- xGoals: double (nullable = true)\n |-- xGoalsChain: double (nullable = true)\n |-- xGoalsBuildup: double (nullable = true)\n |-- assists: integer (nullable = true)\n |-- keyPasses: integer (nullable = true)\n |-- xAssists: double (nullable = true)\n |-- position: string (nullable = true)\n |-- positionOrder: integer (nullable = true)\n |-- yellowCard: integer (nullable = true)\n |-- redCard: integer (nullable = true)\n |-- time: integer (nullable = true)\n |-- substituteIn: integer (nullable = true)\n |-- substituteOut: integer (nullable = true)\n |-- leagueID: integer (nullable = true)\n\n"
     ]
    }
   ],
   "source": [
    "apperarances = spark.read.csv(\n",
    "    path=\"dbfs:/FileStore/tables/appearances.csv\",\n",
    "    sep=\",\",\n",
    "    header=True,\n",
    "    inferSchema=True\n",
    ")\n",
    "season = spark.read.csv(\n",
    "    path=\"dbfs:/FileStore/tables/games.csv\",\n",
    "    sep=\",\",\n",
    "    header=True,\n",
    "    inferSchema=True\n",
    ")\n",
    "leagues = spark.read.csv(\n",
    "    path=\"dbfs:/FileStore/tables/leagues.csv\",\n",
    "    sep=\",\",\n",
    "    header=True,\n",
    "    inferSchema=True\n",
    ")\n",
    "players = spark.read.csv(\n",
    "    \"dbfs:/FileStore/tables/players.csv\",\n",
    "    sep=\",\",\n",
    "     header=True,\n",
    "     inferSchema=True\n",
    ")\n",
    "\n",
    "players.printSchema()\n",
    "leagues.printSchema()\n",
    "season.printSchema()\n",
    "apperarances.printSchema()"
   ]
  },
  {
   "cell_type": "markdown",
   "metadata": {
    "application/vnd.databricks.v1+cell": {
     "cellMetadata": {},
     "inputWidgets": {},
     "nuid": "54cc6dfc-4de9-4467-8ca2-5602ba589bde",
     "showTitle": false,
     "title": ""
    }
   },
   "source": [
    "## Data Filtering and Transformation"
   ]
  },
  {
   "cell_type": "code",
   "execution_count": 0,
   "metadata": {
    "application/vnd.databricks.v1+cell": {
     "cellMetadata": {
      "byteLimit": 2048000,
      "rowLimit": 10000
     },
     "inputWidgets": {},
     "nuid": "616df1f7-5be2-465a-890e-9ec7556e2fd3",
     "showTitle": false,
     "title": ""
    }
   },
   "outputs": [
    {
     "output_type": "stream",
     "name": "stdout",
     "output_type": "stream",
     "text": [
      "+--------+\n|position|\n+--------+\n|     DMC|\n|      DR|\n|      DC|\n|      FW|\n|      DL|\n|     FWR|\n|     DML|\n|      GK|\n|      MR|\n|     Sub|\n|     AMC|\n|     DMR|\n|      MC|\n|     AML|\n|      ML|\n|     AMR|\n|     FWL|\n+--------+\n\n"
     ]
    }
   ],
   "source": [
    "distinct_positions = apperarances.select(\"position\").dropDuplicates()\n",
    "positions = ['FW', 'FWR', 'FWL']\n",
    "apperarances = apperarances.filter(F.col(\"position\").isin(positions))\n",
    "apperarances = apperarances.drop( *[x for x in apperarances.columns if x not in ['gameID', 'playerID', 'goals', 'shots', 'leagueID']])\n",
    "season = season.drop( *[x for x in season.columns if x not in ['gameID','season',]])\n",
    "leagues = leagues.drop('understatNotation')\n",
    "leagues = leagues.withColumnRenamed('name', 'league')\n",
    "players = players.withColumnRenamed('name','player_name')"
   ]
  },
  {
   "cell_type": "markdown",
   "metadata": {
    "application/vnd.databricks.v1+cell": {
     "cellMetadata": {
      "byteLimit": 2048000,
      "rowLimit": 10000
     },
     "inputWidgets": {},
     "nuid": "1eb6fd69-7c05-4073-a777-fb52d7dbc313",
     "showTitle": false,
     "title": ""
    }
   },
   "source": [
    "\n",
    "## Join Operations and Aggregation"
   ]
  },
  {
   "cell_type": "code",
   "execution_count": 0,
   "metadata": {
    "application/vnd.databricks.v1+cell": {
     "cellMetadata": {
      "byteLimit": 2048000,
      "rowLimit": 10000
     },
     "inputWidgets": {},
     "nuid": "fd035469-0a35-4007-be1a-d9c42bd88c23",
     "showTitle": false,
     "title": ""
    }
   },
   "outputs": [
    {
     "output_type": "stream",
     "name": "stdout",
     "output_type": "stream",
     "text": [
      "+------+--------+-----+-----+--------+------+\n|gameID|playerID|goals|shots|leagueID|season|\n+------+--------+-----+-----+--------+------+\n|    81|     629|    0|    2|       1|  2015|\n|    81|     647|    0|    3|       1|  2015|\n|    82|     465|    0|    2|       1|  2015|\n|    82|     468|    0|    2|       1|  2015|\n|    82|     672|    0|    0|       1|  2015|\n|    82|     890|    0|    2|       1|  2015|\n|    82|     679|    0|    0|       1|  2015|\n|    83|     594|    0|    2|       1|  2015|\n|    83|     574|    0|    3|       1|  2015|\n|    84|     755|    1|    5|       1|  2015|\n|    84|     754|    0|    2|       1|  2015|\n|    84|     735|    1|    3|       1|  2015|\n|    85|     467|    0|    2|       1|  2015|\n|    85|     882|    0|    1|       1|  2015|\n|    86|     802|    0|    1|       1|  2015|\n|    86|     717|    1|    5|       1|  2015|\n|    87|     850|    1|    3|       1|  2015|\n|    87|     841|    1|    2|       1|  2015|\n|    88|     502|    0|    5|       1|  2015|\n|    88|     939|    1|    2|       1|  2015|\n+------+--------+-----+-----+--------+------+\nonly showing top 20 rows\n\n+--------+--------+------+-----------+-----------+\n|playerID|leagueID|season|total_goals|total_shots|\n+--------+--------+------+-----------+-----------+\n|     556|       1|  2015|          5|         16|\n|    2233|       4|  2015|          0|          2|\n|    4536|       4|  2016|          2|         29|\n|     243|       3|  2015|          1|         19|\n|    3887|       3|  2016|         16|         83|\n|    1552|       2|  2015|          7|         41|\n|    2006|       2|  2015|          3|         26|\n|    2106|       4|  2016|          1|         19|\n|    2653|       3|  2015|          0|          1|\n|    1145|       4|  2015|          0|          3|\n|    1700|       4|  2016|          1|          3|\n|     465|       1|  2015|          6|         44|\n|    1723|       2|  2015|          0|          2|\n|    1905|       2|  2015|          0|          3|\n|    1963|       2|  2015|          0|         11|\n|     404|       3|  2015|          0|          2|\n|     216|       3|  2016|          5|         34|\n|     135|       3|  2016|          7|         39|\n|     863|       1|  2015|          2|         21|\n|     593|       1|  2015|          2|          3|\n+--------+--------+------+-----------+-----------+\nonly showing top 20 rows\n\n"
     ]
    }
   ],
   "source": [
    "apperarances = apperarances.join(\n",
    "    other=season, on=\"gameID\", how=\"left\"\n",
    ")\n",
    "apperarances = apperarances.groupBy(\"playerID\", 'leagueID', 'season').agg(F.sum(\"goals\").alias(\"total_goals\"),F.sum(\"shots\").alias(\"total_shots\"))"
   ]
  },
  {
   "cell_type": "markdown",
   "metadata": {
    "application/vnd.databricks.v1+cell": {
     "cellMetadata": {},
     "inputWidgets": {},
     "nuid": "6ae5b587-ab61-46dd-9d06-406d03ad1554",
     "showTitle": false,
     "title": ""
    }
   },
   "source": [
    "## Further Filtering"
   ]
  },
  {
   "cell_type": "code",
   "execution_count": 0,
   "metadata": {
    "application/vnd.databricks.v1+cell": {
     "cellMetadata": {
      "byteLimit": 2048000,
      "rowLimit": 10000
     },
     "inputWidgets": {},
     "nuid": "adfcdc01-9f12-4fd0-8595-2c49475c33ec",
     "showTitle": false,
     "title": ""
    }
   },
   "outputs": [],
   "source": [
    "minimum_shot_threshold = 20\n",
    "season = 2019\n",
    "apperarances = apperarances.filter(\n",
    "    (F.col('total_shots')>= minimum_shot_threshold) & \n",
    "    (F.col('season') == season)\n",
    "    )"
   ]
  },
  {
   "cell_type": "markdown",
   "metadata": {
    "application/vnd.databricks.v1+cell": {
     "cellMetadata": {
      "byteLimit": 2048000,
      "rowLimit": 10000
     },
     "inputWidgets": {},
     "nuid": "f1e93655-c00d-4b13-88c4-f16e8bb50133",
     "showTitle": false,
     "title": ""
    }
   },
   "source": [
    "## Final Data Preparation and Analysis"
   ]
  },
  {
   "cell_type": "code",
   "execution_count": 0,
   "metadata": {
    "application/vnd.databricks.v1+cell": {
     "cellMetadata": {
      "byteLimit": 2048000,
      "rowLimit": 10000
     },
     "inputWidgets": {},
     "nuid": "95689736-d0c4-4b05-a703-cf324afdfc5f",
     "showTitle": false,
     "title": ""
    }
   },
   "outputs": [
    {
     "output_type": "stream",
     "name": "stdout",
     "output_type": "stream",
     "text": [
      "+--------+--------+------+-----------+-----------+--------------+------------------+\n|playerID|leagueID|season|total_goals|total_shots|league        |player_name       |\n+--------+--------+------+-----------+-----------+--------------+------------------+\n|2566    |4       |2019  |9          |50         |La Liga       |Roger             |\n|8140    |3       |2019  |4          |20         |Bundesliga    |Munas Dabbur      |\n|839     |1       |2019  |2          |28         |Premier League|Shane Long        |\n|1592    |2       |2019  |11         |51         |Serie A       |Jo�o Pedro        |\n|3243    |5       |2019  |4          |46         |Ligue 1       |Ga�tan Charbonnier|\n+--------+--------+------+-----------+-----------+--------------+------------------+\nonly showing top 5 rows\n\n"
     ]
    }
   ],
   "source": [
    "full_shooting_data = apperarances.join(\n",
    "    other=leagues, on='leagueID', how=\"left\"\n",
    "    ).join(\n",
    "        other=players, on=\"playerID\", how=\"left\"\n",
    "    )"
   ]
  },
  {
   "cell_type": "markdown",
   "metadata": {
    "application/vnd.databricks.v1+cell": {
     "cellMetadata": {
      "byteLimit": 2048000,
      "rowLimit": 10000
     },
     "inputWidgets": {},
     "nuid": "b7a95a27-cf76-4326-8121-8505483550a6",
     "showTitle": false,
     "title": ""
    }
   },
   "source": [
    "## Analysis of highest goal conversion rates 2019"
   ]
  },
  {
   "cell_type": "code",
   "execution_count": 0,
   "metadata": {
    "application/vnd.databricks.v1+cell": {
     "cellMetadata": {
      "byteLimit": 2048000,
      "rowLimit": 10000
     },
     "inputWidgets": {},
     "nuid": "351a442a-ead0-426e-901d-5d37e3deb68c",
     "showTitle": false,
     "title": ""
    }
   },
   "outputs": [
    {
     "output_type": "stream",
     "name": "stdout",
     "output_type": "stream",
     "text": [
      "+--------+--------+------+-----------+-----------+--------------+------------------+-------------------+\n|playerID|leagueID|season|total_goals|total_shots|        league|       player_name|    goal_conversion|\n+--------+--------+------+-----------+-----------+--------------+------------------+-------------------+\n|    5220|       3|  2019|          8|         20|    Bundesliga|       Kai Havertz|                0.4|\n|    1513|       5|  2019|         10|         30|       Ligue 1|      Mauro Icardi| 0.3333333333333333|\n|    7142|       5|  2019|         16|         52|       Ligue 1|    Moussa Dembele| 0.3076923076923077|\n|    2400|       4|  2019|         11|         37|       La Liga|       Ra�l Garc�a| 0.2972972972972973|\n|    8035|       2|  2019|          7|         24|       Serie A| Samuel Di Carmine| 0.2916666666666667|\n|    8260|       3|  2019|          7|         24|    Bundesliga|    Erling Haaland| 0.2916666666666667|\n|    6980|       2|  2019|         20|         70|       Serie A|  Francesco Caputo| 0.2857142857142857|\n|    3210|       5|  2019|         17|         62|       Ligue 1| Wissam Ben Yedder|0.27419354838709675|\n|     690|       5|  2019|          6|         22|       Ligue 1|         Lo�c Remy| 0.2727272727272727|\n|    3477|       5|  2019|          7|         26|       Ligue 1|      Jimmy Briand| 0.2692307692307692|\n|    8025|       5|  2019|         11|         42|       Ligue 1|    Kasper Dolberg| 0.2619047619047619|\n|    1209|       2|  2019|         36|        141|       Serie A|     Ciro Immobile| 0.2553191489361702|\n|     319|       3|  2019|          5|         20|    Bundesliga|        Marco Reus|               0.25|\n|     986|       1|  2019|         21|         84|Premier League|        Danny Ings|               0.25|\n|     227|       3|  2019|         34|        138|    Bundesliga|Robert Lewandowski| 0.2463768115942029|\n|     755|       1|  2019|         21|         87|Premier League|       Jamie Vardy| 0.2413793103448276|\n|    7722|       1|  2019|          6|         25|Premier League|         Tr�z�guet|               0.24|\n|    7967|       4|  2019|          5|         21|       La Liga|    Anssumane Fati|0.23809523809523808|\n|    7800|       3|  2019|          5|         21|    Bundesliga|      Streli Mamba|0.23809523809523808|\n|     594|       2|  2019|         22|         93|       Serie A|     Romelu Lukaku|0.23655913978494625|\n+--------+--------+------+-----------+-----------+--------------+------------------+-------------------+\nonly showing top 20 rows\n\n"
     ]
    }
   ],
   "source": [
    "all_shots = full_shooting_data.withColumn(\n",
    "    \"goal_conversion\",\n",
    "    (F.col(\"total_goals\") / F.col(\"total_shots\"))\n",
    ").orderBy(F.col(\"goal_conversion\").desc()).show()"
   ]
  }
 ],
 "metadata": {
  "application/vnd.databricks.v1+notebook": {
   "dashboards": [],
   "language": "python",
   "notebookMetadata": {
    "mostRecentlyExecutedCommandWithImplicitDF": {
     "commandId": 1556512260922412,
     "dataframes": [
      "_sqldf"
     ]
    },
    "pythonIndentUnit": 4
   },
   "notebookName": "most_efficient_striker_PySpark (1)",
   "widgets": {}
  }
 },
 "nbformat": 4,
 "nbformat_minor": 0
}
